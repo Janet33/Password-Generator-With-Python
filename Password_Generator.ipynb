{
 "cells": [
  {
   "cell_type": "markdown",
   "metadata": {},
   "source": [
    "# Password Generator Requirement"
   ]
  },
  {
   "cell_type": "code",
   "execution_count": 1,
   "metadata": {},
   "outputs": [
    {
     "data": {
      "text/plain": [
       "'\\n    Password Generator Project\\n    input:  password length\\n            Number of Digits\\n            Number of Symbols\\n    \\n    output: password (as string)\\n'"
      ]
     },
     "execution_count": 1,
     "metadata": {},
     "output_type": "execute_result"
    }
   ],
   "source": [
    "\"\"\"\n",
    "    Password Generator Project\n",
    "    input:  password length\n",
    "            Number of Digits\n",
    "            Number of Symbols\n",
    "    \n",
    "    output: password (as string)\n",
    "\"\"\""
   ]
  },
  {
   "cell_type": "code",
   "execution_count": 2,
   "metadata": {},
   "outputs": [],
   "source": [
    "# importing the relevant modules\n",
    "import string\n",
    "import random"
   ]
  },
  {
   "cell_type": "code",
   "execution_count": 3,
   "metadata": {},
   "outputs": [],
   "source": [
    "# List of all lowercase and uppercase characters in Python\n",
    "all_alphabets = list(string.ascii_letters)\n",
    "#print(f'These are the alphabets of the English Language: {all_alphabets}')\n",
    "all_digits = list(string.digits)\n",
    "#print(f'These are the numbers in the English Language: {all_digits}')\n",
    "all_symbols = list(string.punctuation)\n",
    "#print(f'These are the symbols in the English Language: {all_symbols}')"
   ]
  },
  {
   "cell_type": "code",
   "execution_count": 4,
   "metadata": {},
   "outputs": [
    {
     "name": "stdout",
     "output_type": "stream",
     "text": [
      "How many letters would you like in your password?:5\n"
     ]
    }
   ],
   "source": [
    "# Ask user how many letters he/she wants in the password, cast to integer and store as number_of_letters\n",
    "number_of_letters = int(input('How many letters would you like in your password?:'))"
   ]
  },
  {
   "cell_type": "code",
   "execution_count": 5,
   "metadata": {},
   "outputs": [
    {
     "name": "stdout",
     "output_type": "stream",
     "text": [
      "How many symbols would you like in your password?:5\n"
     ]
    }
   ],
   "source": [
    "#Ask user how many symbols he/she would like in the password, cast to integer and store as number_of_symbols\n",
    "number_of_symbols = int(input('How many symbols would you like in your password?:'))"
   ]
  },
  {
   "cell_type": "code",
   "execution_count": 6,
   "metadata": {},
   "outputs": [
    {
     "name": "stdout",
     "output_type": "stream",
     "text": [
      "How many digits would you like in your password?:4\n"
     ]
    }
   ],
   "source": [
    "#Ask user how many digits he/she would like in the password, cast to integer and store as number_of_digits\n",
    "number_of_digits = int(input('How many digits would you like in your password?:'))"
   ]
  },
  {
   "cell_type": "markdown",
   "metadata": {},
   "source": [
    "Get the random letters for the password "
   ]
  },
  {
   "cell_type": "code",
   "execution_count": 7,
   "metadata": {},
   "outputs": [],
   "source": [
    "# Set Accumulator for Password Characters List\n",
    "password_character_list = []\n"
   ]
  },
  {
   "cell_type": "code",
   "execution_count": 8,
   "metadata": {},
   "outputs": [
    {
     "name": "stdout",
     "output_type": "stream",
     "text": [
      "['d', 'K', 'X', 'q', 'M']\n"
     ]
    }
   ],
   "source": [
    "# Randomly select the characters\n",
    "for number in range(number_of_letters):\n",
    "#       select a random digit from list of digits and append to the password digits list\n",
    "    random_letter = random.choice(all_alphabets)\n",
    "    password_character_list.append(random_letter)\n",
    "print(password_character_list)"
   ]
  },
  {
   "cell_type": "markdown",
   "metadata": {},
   "source": [
    "Get the random digits for the password "
   ]
  },
  {
   "cell_type": "code",
   "execution_count": 9,
   "metadata": {},
   "outputs": [],
   "source": [
    "# Set Accumulator for Number of Digits List\n",
    "password_digits_list = []\n"
   ]
  },
  {
   "cell_type": "code",
   "execution_count": 10,
   "metadata": {},
   "outputs": [
    {
     "name": "stdout",
     "output_type": "stream",
     "text": [
      "['7', '9', '2', '5']\n"
     ]
    }
   ],
   "source": [
    "# Randomly select the digits\n",
    "for number in range(number_of_digits):\n",
    "#       select a random digit from list of digits and append to the password digits list\n",
    "    random_digit = random.choice(all_digits)\n",
    "    password_digits_list.append(random_digit)\n",
    "print(password_digits_list)"
   ]
  },
  {
   "cell_type": "markdown",
   "metadata": {},
   "source": [
    "Get the random symbols for the password "
   ]
  },
  {
   "cell_type": "code",
   "execution_count": 11,
   "metadata": {},
   "outputs": [],
   "source": [
    "# Set Accumulator for Number of Symnols List\n",
    "password_symbols_list = []\n"
   ]
  },
  {
   "cell_type": "code",
   "execution_count": 12,
   "metadata": {},
   "outputs": [
    {
     "name": "stdout",
     "output_type": "stream",
     "text": [
      "['@', '&', '[', '&', ';']\n"
     ]
    }
   ],
   "source": [
    "# Randomly select the symbols\n",
    "for number in range(number_of_symbols):\n",
    "#       select a random digit from list of digits and append to the password digits list\n",
    "    random_symbol = random.choice(all_symbols)\n",
    "    password_symbols_list.append(random_symbol)\n",
    "print(password_symbols_list)"
   ]
  },
  {
   "cell_type": "markdown",
   "metadata": {},
   "source": [
    "Add the lists to get the final_password_list and shuffle the final_password_list"
   ]
  },
  {
   "cell_type": "markdown",
   "metadata": {},
   "source": [
    "[To Shuffle, items in a list](https://www.w3schools.com/python/ref_random_shuffle.asp)"
   ]
  },
  {
   "cell_type": "code",
   "execution_count": 13,
   "metadata": {},
   "outputs": [
    {
     "data": {
      "text/plain": [
       "['d', 'K', 'X', 'q', 'M', '7', '9', '2', '5', '@', '&', '[', '&', ';']"
      ]
     },
     "execution_count": 13,
     "metadata": {},
     "output_type": "execute_result"
    }
   ],
   "source": [
    "#add lists to get final_password_list\n",
    "final_password_list = password_character_list + password_digits_list + password_symbols_list\n",
    "final_password_list"
   ]
  },
  {
   "cell_type": "code",
   "execution_count": 14,
   "metadata": {},
   "outputs": [
    {
     "data": {
      "text/plain": [
       "['M', '2', '&', 'd', ';', 'q', '&', '[', 'X', '@', '9', '5', '7', 'K']"
      ]
     },
     "execution_count": 14,
     "metadata": {},
     "output_type": "execute_result"
    }
   ],
   "source": [
    "#shuffle my final_password_list\n",
    "random.shuffle(final_password_list)\n",
    "final_password_list"
   ]
  },
  {
   "cell_type": "markdown",
   "metadata": {},
   "source": [
    "Now, change the final_password_list to a string"
   ]
  },
  {
   "cell_type": "code",
   "execution_count": 15,
   "metadata": {},
   "outputs": [
    {
     "data": {
      "text/plain": [
       "['M', '2', '&', 'd', ';', 'q', '&', '[', 'X', '@', '9', '5', '7', 'K']"
      ]
     },
     "execution_count": 15,
     "metadata": {},
     "output_type": "execute_result"
    }
   ],
   "source": [
    "# assign final_password_list to string_password\n",
    "string_password = final_password_list\n",
    "string_password"
   ]
  },
  {
   "cell_type": "code",
   "execution_count": 16,
   "metadata": {},
   "outputs": [],
   "source": [
    "# accumulator for string_password\n",
    "string_password = ''"
   ]
  },
  {
   "cell_type": "code",
   "execution_count": 17,
   "metadata": {},
   "outputs": [
    {
     "name": "stdout",
     "output_type": "stream",
     "text": [
      "Here is your password M2&d;q&[X@957K\n"
     ]
    }
   ],
   "source": [
    "for character in final_password_list:\n",
    "#       append the character to the string_password\n",
    "    string_password += character\n",
    "#Print the string password\n",
    "print('Here is your password', string_password)"
   ]
  },
  {
   "cell_type": "markdown",
   "metadata": {},
   "source": [
    "alternatively \n",
    "- [About map() function'](https://realpython.com/python-map-function/)\n",
    "- [About replace() function](https://medium.com/techtofreedom/5-ways-to-remove-spaces-of-a-python-string-633978255df1)"
   ]
  },
  {
   "cell_type": "code",
   "execution_count": 18,
   "metadata": {},
   "outputs": [
    {
     "name": "stdout",
     "output_type": "stream",
     "text": [
      "Here is your password: M2&d;q&[X@957K\n"
     ]
    }
   ],
   "source": [
    "# using map function\n",
    "list_to_string = ' '.join(map(str, string_password)) \n",
    "\n",
    "print('Here is your password:', list_to_string.replace(' ', '')) "
   ]
  },
  {
   "cell_type": "code",
   "execution_count": null,
   "metadata": {},
   "outputs": [],
   "source": []
  }
 ],
 "metadata": {
  "kernelspec": {
   "display_name": "Python 3",
   "language": "python",
   "name": "python3"
  },
  "language_info": {
   "codemirror_mode": {
    "name": "ipython",
    "version": 3
   },
   "file_extension": ".py",
   "mimetype": "text/x-python",
   "name": "python",
   "nbconvert_exporter": "python",
   "pygments_lexer": "ipython3",
   "version": "3.8.5"
  }
 },
 "nbformat": 4,
 "nbformat_minor": 4
}
